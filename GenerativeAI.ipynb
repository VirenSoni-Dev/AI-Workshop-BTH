{
  "nbformat": 4,
  "nbformat_minor": 0,
  "metadata": {
    "colab": {
      "provenance": [],
      "authorship_tag": "ABX9TyNSjfkIBjXfWz4nD4nWY+uW",
      "include_colab_link": true
    },
    "kernelspec": {
      "name": "python3",
      "display_name": "Python 3"
    },
    "language_info": {
      "name": "python"
    }
  },
  "cells": [
    {
      "cell_type": "markdown",
      "metadata": {
        "id": "view-in-github",
        "colab_type": "text"
      },
      "source": [
        "<a href=\"https://colab.research.google.com/github/alphakhush2201/AI-Workshop-BTH/blob/main/GenerativeAI.ipynb\" target=\"_parent\"><img src=\"https://colab.research.google.com/assets/colab-badge.svg\" alt=\"Open In Colab\"/></a>"
      ]
    },
    {
      "cell_type": "code",
      "execution_count": null,
      "metadata": {
        "id": "sL7-3hKc7pmg"
      },
      "outputs": [],
      "source": [
        "# Generative AI: unlike traditional AI method  that\n",
        "# predicts label or classified data, it is designed to generate content,\n",
        "# (audio, video, image, text, code)\n",
        "# for eg. chatGPT(Text Generation), Github Copilot(code generation), Gemini, Perplexity,\n",
        "# bolt.new, lovable,\n",
        "\n",
        "# What are LLMs ??(Large Language Models),\n",
        "# LLMs are Neural Networks that are trained on massive\n",
        "#  amounts of text data, to understand and generate\n",
        "#  human like language\n",
        "\n",
        "# Key Structure:\n",
        "# 1. Large Scale(Billions of parameters,\n",
        "#                chatGPT 3 has  175B+ parameters)\n",
        "# 2. Training Data(internet text,\n",
        "#                  books articles, conversations,)\n",
        "# 3. Capabilities( text generations, image generations,\n",
        "#                 video/ audio generations)\n",
        "\n",
        "\n",
        "# How LLMs Works?!!\n",
        "# 1. code Idea, next word predictions\n",
        "# for eg. \"the cat sat on the _ _ _ \"-> 'mat'\n",
        "# 2. Transformers Architecture\n",
        "      # (The foundation of Modern LLMs)\n",
        "      # used in self attention\n",
        "      # for eg. it lets the model focus on relevent words,\n",
        "      #  across the input sentence to understand the context\n",
        "      #   better.\n",
        "\n",
        "# Training Process,\n",
        "# Unsupervised Learning on Large Datasets,\n",
        "# for eg. to summerize the code\n",
        "\n",
        "\n",
        "\n",
        "\n",
        "\n",
        "\n",
        "\n"
      ]
    },
    {
      "cell_type": "code",
      "source": [
        "!pip install fpdf"
      ],
      "metadata": {
        "id": "vqqmVx18-fz5",
        "colab": {
          "base_uri": "https://localhost:8080/"
        },
        "outputId": "e0cd028d-5738-41c5-ad85-c3eb413c4777"
      },
      "execution_count": 1,
      "outputs": [
        {
          "output_type": "stream",
          "name": "stdout",
          "text": [
            "Collecting fpdf\n",
            "  Downloading fpdf-1.7.2.tar.gz (39 kB)\n",
            "  Preparing metadata (setup.py) ... \u001b[?25l\u001b[?25hdone\n",
            "Building wheels for collected packages: fpdf\n",
            "  Building wheel for fpdf (setup.py) ... \u001b[?25l\u001b[?25hdone\n",
            "  Created wheel for fpdf: filename=fpdf-1.7.2-py2.py3-none-any.whl size=40704 sha256=dd5282b677f30917a9eccf5eb4ea78ffd682271b9fc97ea746beb1a99462f013\n",
            "  Stored in directory: /root/.cache/pip/wheels/65/4f/66/bbda9866da446a72e206d6484cd97381cbc7859a7068541c36\n",
            "Successfully built fpdf\n",
            "Installing collected packages: fpdf\n",
            "Successfully installed fpdf-1.7.2\n"
          ]
        }
      ]
    },
    {
      "cell_type": "code",
      "source": [
        "from fpdf import FPDF\n",
        "YOUR_NAME = \"Khushwant Singh\"\n",
        "class PDF(FPDF):\n",
        "  def header(self):\n",
        "    if self.page_no() == 1:\n",
        "      self.set_font(\"Arial\",\"B\",12)\n",
        "      self.cell(0, 10, \"GenerativeAI and LLMs\",ln=True, align=\"C\",)\n",
        "      self.ln(5)\n",
        "\n",
        "  def footer(self):\n",
        "    self.set_y(-15)\n",
        "    self.set_font(\"Arial\",\"I\",8)\n",
        "    self.cell(0, 10, f'page{self.page_no()}', align=\"C\",)\n",
        "\n",
        "  def title_page(self):\n",
        "    self.set_font(\"Arial\",\"B\",20)\n",
        "    self.set_y(80)\n",
        "    self.cell(0, 10, \"GenerativeAI and LLMs\",ln=True, align=\"C\")\n",
        "    self.set_font(\"Arial\",\"\",14)\n",
        "    self.ln(10)\n",
        "    self.cell(0, 10, f\"created by: {YOUR_NAME}\",ln=True, align=\"C\")\n",
        "\n",
        "  def section_title(self, title):\n",
        "    self.set_font(\"Arial\",\"B\",14)\n",
        "    self.set_text_color(0, 51, 102)\n",
        "    self.cell(0, 10, title, ln=True)\n",
        "    self.set_text_color(0, 0, 0)\n",
        "    self.ln(2)\n",
        "\n",
        "  def section_body(self, text):\n",
        "    self.set_font(\"Arial\",\"\",11)\n",
        "    self.multi_cell(0, 8, text)\n",
        "    self.ln()\n",
        "\n",
        "  def capability_table(self):\n",
        "    self.set_font(\"Arial\",\"B\",11)\n",
        "    self.cell(60, 10, \"Task\", 1, 0, 'C')\n",
        "    self.cell(120, 10, \"Example Prompt\", 1, 1, 'C')\n",
        "    self.set_font(\"Arial\", \"\", 11)\n",
        "    rows = [\n",
        "            (\"Summarization\", \"Summarize the article about AI.\"),\n",
        "            (\"Translation\", \"Translate 'Good morning' to Spanish.\"),\n",
        "            (\"Q&A\", \"What is quantum computing?\"),\n",
        "            (\"Text Generation\", \"Write a story about a robot artist.\"),\n",
        "            (\"Code Generation\", \"Write a Python function for factorial.\"),\n",
        "            (\"Role Play\", \"Act as a Paris tour guide.\"),\n",
        "        ]\n",
        "    for task, prompt in rows:\n",
        "            self.cell(60, 10, task, 1)\n",
        "            self.cell(120, 10, prompt, 1, 1)\n",
        "\n",
        "        #create PDF\n",
        "pdf = PDF()\n",
        "pdf.add_page()\n",
        "pdf.title_page()\n",
        "pdf.add_page()\n",
        "\n",
        "\n",
        "        # Sections\n",
        "pdf.section_title(\"1. Overview of Generative AI\")\n",
        "pdf.section_body(\n",
        "    \"Generative AI creates new content instead of just analyzing existing data.\\n\\n\"\n",
        "    \"It can generate:\\n\"\n",
        "    \"- Text (e.g., essays, summaries)\\n\"\n",
        "    \"- Images (e.g., DALL·E)\\n\"\n",
        "    \"- Code (e.g., GitHub Copilot)\\n\"\n",
        "    \"- Audio and Music\\n\"\n",
        "    \"- Videos (e.g., Sora, Runway)\"\n",
        ")\n",
        "\n",
        "pdf.section_title(\"2. What Are LLMs?\")\n",
        "pdf.section_body(\n",
        "    \"Large Language Models (LLMs) are deep learning models trained on vast amounts of text data.\\n\\n\"\n",
        "    \"Capabilities include:\\n\"\n",
        "    \"- Understanding context\\n\"\n",
        "    \"- Generating human-like text\\n\"\n",
        "    \"- Answering questions\\n\"\n",
        "    \"- Translating languages\\n\"\n",
        "    \"- Summarizing content\\n\\n\"\n",
        "    \"Popular LLMs: GPT-4, Claude, Gemini, LLaMA\"\n",
        ")\n",
        "\n",
        "pdf.section_title(\"3. How LLMs Work\")\n",
        "pdf.section_body(\n",
        "    \"LLMs are trained to predict the next word in a sentence using a technique called 'next-word prediction.'\\n\\n\"\n",
        "    \"The architecture used is called a Transformer, which uses self-attention to understand context.\\n\"\n",
        "    \"Training involves vast text corpora and multiple stages of fine-tuning.\"\n",
        ")\n",
        "\n",
        "pdf.section_body(\"Here are examples of what LLMs can do with well-crafted prompts:\")\n",
        "pdf.capability_table()\n",
        "pdf.section_title(\"4. Exploring LLM Capabilities\")\n",
        "pdf.ln()\n",
        "pdf.set_font(\"Arial\", \"I\", 10)\n",
        "pdf.cell(0, 10, \"Tip: The clearer your prompt, the better the output!\", ln=True)\n",
        "\n",
        "# save\n",
        "pdf.output(\"genAI and LLMs.pdf\")\n",
        "\n"
      ],
      "metadata": {
        "colab": {
          "base_uri": "https://localhost:8080/",
          "height": 35
        },
        "id": "--3draTtCB-4",
        "outputId": "92aa11c7-d171-4d53-b3bf-8980e62c68b7"
      },
      "execution_count": null,
      "outputs": [
        {
          "output_type": "execute_result",
          "data": {
            "text/plain": [
              "''"
            ],
            "application/vnd.google.colaboratory.intrinsic+json": {
              "type": "string"
            }
          },
          "metadata": {},
          "execution_count": 10
        }
      ]
    },
    {
      "cell_type": "code",
      "source": [
        "from google.colab import files\n",
        "files.download(\"genAI and LLMs.pdf\"\n",
        ")"
      ],
      "metadata": {
        "colab": {
          "base_uri": "https://localhost:8080/",
          "height": 17
        },
        "id": "yma1N-v8DYWK",
        "outputId": "3e9a8ddc-8213-4f2c-cd68-7bfc832b2c6d"
      },
      "execution_count": null,
      "outputs": [
        {
          "output_type": "display_data",
          "data": {
            "text/plain": [
              "<IPython.core.display.Javascript object>"
            ],
            "application/javascript": [
              "\n",
              "    async function download(id, filename, size) {\n",
              "      if (!google.colab.kernel.accessAllowed) {\n",
              "        return;\n",
              "      }\n",
              "      const div = document.createElement('div');\n",
              "      const label = document.createElement('label');\n",
              "      label.textContent = `Downloading \"${filename}\": `;\n",
              "      div.appendChild(label);\n",
              "      const progress = document.createElement('progress');\n",
              "      progress.max = size;\n",
              "      div.appendChild(progress);\n",
              "      document.body.appendChild(div);\n",
              "\n",
              "      const buffers = [];\n",
              "      let downloaded = 0;\n",
              "\n",
              "      const channel = await google.colab.kernel.comms.open(id);\n",
              "      // Send a message to notify the kernel that we're ready.\n",
              "      channel.send({})\n",
              "\n",
              "      for await (const message of channel.messages) {\n",
              "        // Send a message to notify the kernel that we're ready.\n",
              "        channel.send({})\n",
              "        if (message.buffers) {\n",
              "          for (const buffer of message.buffers) {\n",
              "            buffers.push(buffer);\n",
              "            downloaded += buffer.byteLength;\n",
              "            progress.value = downloaded;\n",
              "          }\n",
              "        }\n",
              "      }\n",
              "      const blob = new Blob(buffers, {type: 'application/binary'});\n",
              "      const a = document.createElement('a');\n",
              "      a.href = window.URL.createObjectURL(blob);\n",
              "      a.download = filename;\n",
              "      div.appendChild(a);\n",
              "      a.click();\n",
              "      div.remove();\n",
              "    }\n",
              "  "
            ]
          },
          "metadata": {}
        },
        {
          "output_type": "display_data",
          "data": {
            "text/plain": [
              "<IPython.core.display.Javascript object>"
            ],
            "application/javascript": [
              "download(\"download_5a597bdb-25b6-47cd-8f0c-7b766f34b7d6\", \"genAI and LLMs.pdf\", 3111)"
            ]
          },
          "metadata": {}
        }
      ]
    },
    {
      "cell_type": "code",
      "source": [
        "from google.colab import files\n",
        "uploaded = files.upload()"
      ],
      "metadata": {
        "colab": {
          "base_uri": "https://localhost:8080/",
          "height": 73
        },
        "id": "RYFxMx5lUinW",
        "outputId": "31154e81-280a-443d-d458-f0aa2a29ee08"
      },
      "execution_count": null,
      "outputs": [
        {
          "output_type": "display_data",
          "data": {
            "text/plain": [
              "<IPython.core.display.HTML object>"
            ],
            "text/html": [
              "\n",
              "     <input type=\"file\" id=\"files-ab50d548-2eca-4806-8c96-ee62e88ccde7\" name=\"files[]\" multiple disabled\n",
              "        style=\"border:none\" />\n",
              "     <output id=\"result-ab50d548-2eca-4806-8c96-ee62e88ccde7\">\n",
              "      Upload widget is only available when the cell has been executed in the\n",
              "      current browser session. Please rerun this cell to enable.\n",
              "      </output>\n",
              "      <script>// Copyright 2017 Google LLC\n",
              "//\n",
              "// Licensed under the Apache License, Version 2.0 (the \"License\");\n",
              "// you may not use this file except in compliance with the License.\n",
              "// You may obtain a copy of the License at\n",
              "//\n",
              "//      http://www.apache.org/licenses/LICENSE-2.0\n",
              "//\n",
              "// Unless required by applicable law or agreed to in writing, software\n",
              "// distributed under the License is distributed on an \"AS IS\" BASIS,\n",
              "// WITHOUT WARRANTIES OR CONDITIONS OF ANY KIND, either express or implied.\n",
              "// See the License for the specific language governing permissions and\n",
              "// limitations under the License.\n",
              "\n",
              "/**\n",
              " * @fileoverview Helpers for google.colab Python module.\n",
              " */\n",
              "(function(scope) {\n",
              "function span(text, styleAttributes = {}) {\n",
              "  const element = document.createElement('span');\n",
              "  element.textContent = text;\n",
              "  for (const key of Object.keys(styleAttributes)) {\n",
              "    element.style[key] = styleAttributes[key];\n",
              "  }\n",
              "  return element;\n",
              "}\n",
              "\n",
              "// Max number of bytes which will be uploaded at a time.\n",
              "const MAX_PAYLOAD_SIZE = 100 * 1024;\n",
              "\n",
              "function _uploadFiles(inputId, outputId) {\n",
              "  const steps = uploadFilesStep(inputId, outputId);\n",
              "  const outputElement = document.getElementById(outputId);\n",
              "  // Cache steps on the outputElement to make it available for the next call\n",
              "  // to uploadFilesContinue from Python.\n",
              "  outputElement.steps = steps;\n",
              "\n",
              "  return _uploadFilesContinue(outputId);\n",
              "}\n",
              "\n",
              "// This is roughly an async generator (not supported in the browser yet),\n",
              "// where there are multiple asynchronous steps and the Python side is going\n",
              "// to poll for completion of each step.\n",
              "// This uses a Promise to block the python side on completion of each step,\n",
              "// then passes the result of the previous step as the input to the next step.\n",
              "function _uploadFilesContinue(outputId) {\n",
              "  const outputElement = document.getElementById(outputId);\n",
              "  const steps = outputElement.steps;\n",
              "\n",
              "  const next = steps.next(outputElement.lastPromiseValue);\n",
              "  return Promise.resolve(next.value.promise).then((value) => {\n",
              "    // Cache the last promise value to make it available to the next\n",
              "    // step of the generator.\n",
              "    outputElement.lastPromiseValue = value;\n",
              "    return next.value.response;\n",
              "  });\n",
              "}\n",
              "\n",
              "/**\n",
              " * Generator function which is called between each async step of the upload\n",
              " * process.\n",
              " * @param {string} inputId Element ID of the input file picker element.\n",
              " * @param {string} outputId Element ID of the output display.\n",
              " * @return {!Iterable<!Object>} Iterable of next steps.\n",
              " */\n",
              "function* uploadFilesStep(inputId, outputId) {\n",
              "  const inputElement = document.getElementById(inputId);\n",
              "  inputElement.disabled = false;\n",
              "\n",
              "  const outputElement = document.getElementById(outputId);\n",
              "  outputElement.innerHTML = '';\n",
              "\n",
              "  const pickedPromise = new Promise((resolve) => {\n",
              "    inputElement.addEventListener('change', (e) => {\n",
              "      resolve(e.target.files);\n",
              "    });\n",
              "  });\n",
              "\n",
              "  const cancel = document.createElement('button');\n",
              "  inputElement.parentElement.appendChild(cancel);\n",
              "  cancel.textContent = 'Cancel upload';\n",
              "  const cancelPromise = new Promise((resolve) => {\n",
              "    cancel.onclick = () => {\n",
              "      resolve(null);\n",
              "    };\n",
              "  });\n",
              "\n",
              "  // Wait for the user to pick the files.\n",
              "  const files = yield {\n",
              "    promise: Promise.race([pickedPromise, cancelPromise]),\n",
              "    response: {\n",
              "      action: 'starting',\n",
              "    }\n",
              "  };\n",
              "\n",
              "  cancel.remove();\n",
              "\n",
              "  // Disable the input element since further picks are not allowed.\n",
              "  inputElement.disabled = true;\n",
              "\n",
              "  if (!files) {\n",
              "    return {\n",
              "      response: {\n",
              "        action: 'complete',\n",
              "      }\n",
              "    };\n",
              "  }\n",
              "\n",
              "  for (const file of files) {\n",
              "    const li = document.createElement('li');\n",
              "    li.append(span(file.name, {fontWeight: 'bold'}));\n",
              "    li.append(span(\n",
              "        `(${file.type || 'n/a'}) - ${file.size} bytes, ` +\n",
              "        `last modified: ${\n",
              "            file.lastModifiedDate ? file.lastModifiedDate.toLocaleDateString() :\n",
              "                                    'n/a'} - `));\n",
              "    const percent = span('0% done');\n",
              "    li.appendChild(percent);\n",
              "\n",
              "    outputElement.appendChild(li);\n",
              "\n",
              "    const fileDataPromise = new Promise((resolve) => {\n",
              "      const reader = new FileReader();\n",
              "      reader.onload = (e) => {\n",
              "        resolve(e.target.result);\n",
              "      };\n",
              "      reader.readAsArrayBuffer(file);\n",
              "    });\n",
              "    // Wait for the data to be ready.\n",
              "    let fileData = yield {\n",
              "      promise: fileDataPromise,\n",
              "      response: {\n",
              "        action: 'continue',\n",
              "      }\n",
              "    };\n",
              "\n",
              "    // Use a chunked sending to avoid message size limits. See b/62115660.\n",
              "    let position = 0;\n",
              "    do {\n",
              "      const length = Math.min(fileData.byteLength - position, MAX_PAYLOAD_SIZE);\n",
              "      const chunk = new Uint8Array(fileData, position, length);\n",
              "      position += length;\n",
              "\n",
              "      const base64 = btoa(String.fromCharCode.apply(null, chunk));\n",
              "      yield {\n",
              "        response: {\n",
              "          action: 'append',\n",
              "          file: file.name,\n",
              "          data: base64,\n",
              "        },\n",
              "      };\n",
              "\n",
              "      let percentDone = fileData.byteLength === 0 ?\n",
              "          100 :\n",
              "          Math.round((position / fileData.byteLength) * 100);\n",
              "      percent.textContent = `${percentDone}% done`;\n",
              "\n",
              "    } while (position < fileData.byteLength);\n",
              "  }\n",
              "\n",
              "  // All done.\n",
              "  yield {\n",
              "    response: {\n",
              "      action: 'complete',\n",
              "    }\n",
              "  };\n",
              "}\n",
              "\n",
              "scope.google = scope.google || {};\n",
              "scope.google.colab = scope.google.colab || {};\n",
              "scope.google.colab._files = {\n",
              "  _uploadFiles,\n",
              "  _uploadFilesContinue,\n",
              "};\n",
              "})(self);\n",
              "</script> "
            ]
          },
          "metadata": {}
        },
        {
          "output_type": "stream",
          "name": "stdout",
          "text": [
            "Saving WhatsApp Image 2025-07-07 at 3.05.08 PM.jpeg to WhatsApp Image 2025-07-07 at 3.05.08 PM.jpeg\n"
          ]
        }
      ]
    },
    {
      "cell_type": "code",
      "source": [
        "from fpdf import FPDF\n",
        "#INFO\n",
        "YOUR_NAME = \"Khushwant Singh\"\n",
        "GITHUB_URL =\"https://www.github.com/alphakhush2201/\"\n",
        "LINKEDIN_URL = \"https://www.linkedin.com/in/khushwantsinghchouhan/\"\n",
        "PROFILE_IMAGE = \"/content/PIC.JPEG\" #replace\n",
        "# this with your actual uploaded file name\n",
        "class PDF(FPDF):\n",
        "  def header(self):\n",
        "    if self.page_no() == 1:\n",
        "      return\n",
        "    self.set_font(\"Arial\",\"B\",12)\n",
        "    self.cell(0, 10, \"GenerativeAI and LLMs\",ln=True, align=\"C\",)\n",
        "    self.ln(5)\n",
        "\n",
        "  def footer(self):\n",
        "    self.set_y(-15)\n",
        "    self.set_font(\"Arial\",\"I\",8)\n",
        "    self.cell(0, 10, f'CREATED BY{YOUR_NAME} | GitHub: {GITHUB_URL}', align=\"C\",)\n",
        "\n",
        "  def title_page(self):\n",
        "    if PROFILE_IMAGE:\n",
        "      self.image(PROFILE_IMAGE,x = 80, y=30, w= 50)\n",
        "      self.ln(80)\n",
        "    self.set_font(\"Arial\",\"B\",20)\n",
        "    self.cell(0, 10, \"GenerativeAI and LLMs\",ln=True, align=\"C\")\n",
        "    self.set_font(\"Arial\",\"\",14)\n",
        "    self.ln(10)\n",
        "    self.cell(0, 10, f\"created by: {YOUR_NAME}\",ln=True, align=\"C\")\n",
        "    self.set_font(\"Arial\",\"\",12)\n",
        "    self.cell(0, 10, f\"GitHub: {GITHUB_URL}\",ln = True, align=\"C\")\n",
        "    self.cell(0, 10, f\"Linkedin:{LINKEDIN_URL}\",ln= True, align=\"C\" )\n",
        "\n",
        "  def section_title(self, title):\n",
        "    self.set_font(\"Arial\",\"B\",14)\n",
        "    self.set_text_color(0, 51, 102)\n",
        "    self.cell(0, 10, title, ln=True)\n",
        "    self.set_text_color(0, 0, 0)\n",
        "    self.ln(2)\n",
        "\n",
        "  def section_body(self, text):\n",
        "    self.set_font(\"Arial\",\"\",11)\n",
        "    self.multi_cell(0, 8, text)\n",
        "    self.ln()\n",
        "\n",
        "  def capability_table(self):\n",
        "    self.set_font(\"Arial\",\"B\",11)\n",
        "    self.cell(60, 10, \"Task\", 1, 0, 'C')\n",
        "    self.cell(120, 10, \"Example Prompt\", 1, 1, 'C')\n",
        "    self.set_font(\"Arial\", \"\", 11)\n",
        "    rows = [\n",
        "            (\"Summarization\", \"Summarize the article about AI.\"),\n",
        "            (\"Translation\", \"Translate 'Good morning' to Spanish.\"),\n",
        "            (\"Q&A\", \"What is quantum computing?\"),\n",
        "            (\"Text Generation\", \"Write a story about a robot artist.\"),\n",
        "            (\"Code Generation\", \"Write a Python function for factorial.\"),\n",
        "            (\"Role Play\", \"Act as a Paris tour guide.\"),\n",
        "        ]\n",
        "    for task, prompt in rows:\n",
        "            self.cell(60, 10, task, 1)\n",
        "            self.cell(120, 10, prompt, 1, 1)\n",
        "\n",
        "        #create PDF\n",
        "pdf = PDF()\n",
        "pdf.add_page()\n",
        "pdf.title_page()\n",
        "pdf.add_page()\n",
        "\n",
        "\n",
        "        # Sections\n",
        "pdf.section_title(\"1. Overview of Generative AI\")\n",
        "pdf.section_body(\n",
        "    \"Generative AI creates new content instead of just analyzing existing data.\\n\\n\"\n",
        "    \"It can generate:\\n\"\n",
        "    \"- Text (e.g., essays, summaries)\\n\"\n",
        "    \"- Images (e.g., DALL·E)\\n\"\n",
        "    \"- Code (e.g., GitHub Copilot)\\n\"\n",
        "    \"- Audio and Music\\n\"\n",
        "    \"- Videos (e.g., Sora, Runway)\"\n",
        ")\n",
        "\n",
        "pdf.section_title(\"2. What Are LLMs?\")\n",
        "pdf.section_body(\n",
        "    \"Large Language Models (LLMs) are deep learning models trained on vast amounts of text data.\\n\\n\"\n",
        "    \"Capabilities include:\\n\"\n",
        "    \"- Understanding context\\n\"\n",
        "    \"- Generating human-like text\\n\"\n",
        "    \"- Answering questions\\n\"\n",
        "    \"- Translating languages\\n\"\n",
        "    \"- Summarizing content\\n\\n\"\n",
        "    \"Popular LLMs: GPT-4, Claude, Gemini, LLaMA\"\n",
        ")\n",
        "\n",
        "pdf.section_title(\"3. How LLMs Work\")\n",
        "pdf.section_body(\n",
        "    \"LLMs are trained to predict the next word in a sentence using a technique called 'next-word prediction.'\\n\\n\"\n",
        "    \"The architecture used is called a Transformer, which uses self-attention to understand context.\\n\"\n",
        "    \"Training involves vast text corpora and multiple stages of fine-tuning.\"\n",
        ")\n",
        "\n",
        "pdf.section_body(\"Here are examples of what LLMs can do with well-crafted prompts:\")\n",
        "pdf.capability_table()\n",
        "pdf.section_title(\"4. Exploring LLM Capabilities\")\n",
        "pdf.ln()\n",
        "pdf.set_font(\"Arial\", \"I\", 10)\n",
        "pdf.cell(0, 10, \"Tip: The clearer your prompt, the better the output!\", ln=True)\n",
        "\n",
        "# save\n",
        "pdf.output(\"genAI and LLMs.pdf\")\n",
        "\n"
      ],
      "metadata": {
        "id": "US5-OwYBUq8f",
        "colab": {
          "base_uri": "https://localhost:8080/",
          "height": 36
        },
        "outputId": "d52c3bfa-f22a-436e-9810-9378ce67e309"
      },
      "execution_count": 3,
      "outputs": [
        {
          "output_type": "execute_result",
          "data": {
            "text/plain": [
              "''"
            ],
            "application/vnd.google.colaboratory.intrinsic+json": {
              "type": "string"
            }
          },
          "metadata": {},
          "execution_count": 3
        }
      ]
    },
    {
      "cell_type": "code",
      "source": [
        "from google.colab import files\n",
        "files.download(\"genAI and LLMs.pdf\"\n",
        ")"
      ],
      "metadata": {
        "colab": {
          "base_uri": "https://localhost:8080/",
          "height": 17
        },
        "id": "P_BOcNIfOgGb",
        "outputId": "5b24f9f2-6c27-42cc-b50d-91dc2c0b77b3"
      },
      "execution_count": 4,
      "outputs": [
        {
          "output_type": "display_data",
          "data": {
            "text/plain": [
              "<IPython.core.display.Javascript object>"
            ],
            "application/javascript": [
              "\n",
              "    async function download(id, filename, size) {\n",
              "      if (!google.colab.kernel.accessAllowed) {\n",
              "        return;\n",
              "      }\n",
              "      const div = document.createElement('div');\n",
              "      const label = document.createElement('label');\n",
              "      label.textContent = `Downloading \"${filename}\": `;\n",
              "      div.appendChild(label);\n",
              "      const progress = document.createElement('progress');\n",
              "      progress.max = size;\n",
              "      div.appendChild(progress);\n",
              "      document.body.appendChild(div);\n",
              "\n",
              "      const buffers = [];\n",
              "      let downloaded = 0;\n",
              "\n",
              "      const channel = await google.colab.kernel.comms.open(id);\n",
              "      // Send a message to notify the kernel that we're ready.\n",
              "      channel.send({})\n",
              "\n",
              "      for await (const message of channel.messages) {\n",
              "        // Send a message to notify the kernel that we're ready.\n",
              "        channel.send({})\n",
              "        if (message.buffers) {\n",
              "          for (const buffer of message.buffers) {\n",
              "            buffers.push(buffer);\n",
              "            downloaded += buffer.byteLength;\n",
              "            progress.value = downloaded;\n",
              "          }\n",
              "        }\n",
              "      }\n",
              "      const blob = new Blob(buffers, {type: 'application/binary'});\n",
              "      const a = document.createElement('a');\n",
              "      a.href = window.URL.createObjectURL(blob);\n",
              "      a.download = filename;\n",
              "      div.appendChild(a);\n",
              "      a.click();\n",
              "      div.remove();\n",
              "    }\n",
              "  "
            ]
          },
          "metadata": {}
        },
        {
          "output_type": "display_data",
          "data": {
            "text/plain": [
              "<IPython.core.display.Javascript object>"
            ],
            "application/javascript": [
              "download(\"download_91f4aa80-f150-4200-8e1b-cbe865799021\", \"genAI and LLMs.pdf\", 8583)"
            ]
          },
          "metadata": {}
        }
      ]
    },
    {
      "cell_type": "code",
      "source": [
        "from google.colab import files\n",
        "uploaded = files.upload()"
      ],
      "metadata": {
        "id": "c-pefqApO0ej"
      },
      "execution_count": null,
      "outputs": []
    }
  ]
}