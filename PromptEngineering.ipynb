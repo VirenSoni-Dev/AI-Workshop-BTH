{
  "nbformat": 4,
  "nbformat_minor": 0,
  "metadata": {
    "colab": {
      "provenance": [],
      "authorship_tag": "ABX9TyN8fx+Z6QqajwcepxYUvKjw",
      "include_colab_link": true
    },
    "kernelspec": {
      "name": "python3",
      "display_name": "Python 3"
    },
    "language_info": {
      "name": "python"
    }
  },
  "cells": [
    {
      "cell_type": "markdown",
      "metadata": {
        "id": "view-in-github",
        "colab_type": "text"
      },
      "source": [
        "<a href=\"https://colab.research.google.com/github/alphakhush2201/AI-Workshop-BTH/blob/main/PromptEngineering.ipynb\" target=\"_parent\"><img src=\"https://colab.research.google.com/assets/colab-badge.svg\" alt=\"Open In Colab\"/></a>"
      ]
    },
    {
      "cell_type": "code",
      "execution_count": null,
      "metadata": {
        "id": "JHVi-Po4TFaQ"
      },
      "outputs": [],
      "source": [
        "# Prompt Engineering : It is a skill of writing effective inputs(prompts),\n",
        "# to guide LLMs(AI Models), (for eg. chatGPT, Gemini, Llama, Mistral,) to accurate\n",
        "# and helpful results.\n",
        "\n",
        "# Bad Prompts:\n",
        "# Tell me about AI,\n",
        "\n",
        "# Good Prompts:\n",
        "# Explain Artificial Intelligence to a 10 year old, with example\n",
        "\n",
        "#Principle of Good prompts:\n",
        "# 1. Clarity(use simple and clear instructions)\n",
        "      # Eg. Summerize the paragraph in three bullet points.\n",
        "# 2. Context(Provide neccessary background)\n",
        "      # Eg. Given this resume write a cover letter for data analyst\n",
        "# 3. Specify(Clearly define the tasks )\n",
        "      # Eg. write four lines about the moon\n",
        "# 4. role playing(Ask the model to act as a specific character)\n",
        "      # Eg. You are a math teacher. Explain Differential Calculas\n",
        "# 5. Iteration(Refine Prompts based on results)\n",
        "      # Eg. Improve this prompt to generate more creative ideas\n",
        "\n",
        "\n",
        "# Prompting Techniques\n",
        "# 1. Zero Shot(No Example Given)\n",
        "#     Eg. Translate this sentence in French\n",
        "# 2. Few Shot(Provide a few Example)\n",
        "#     Eg. Translate: cat - chat\n",
        "# 3. Chain of Thoughts(Asks for step by step reasoning)\n",
        "#     Eg. Explain your steps for solving\n",
        "#         24/ (4 *2)\n",
        "\n"
      ]
    }
  ]
}